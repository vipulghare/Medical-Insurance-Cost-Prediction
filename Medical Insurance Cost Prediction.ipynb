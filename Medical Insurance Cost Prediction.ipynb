{
 "cells": [
  {
   "cell_type": "code",
   "execution_count": 1,
   "id": "4f013c21",
   "metadata": {},
   "outputs": [],
   "source": [
    "#import all the necessary modules"
   ]
  },
  {
   "cell_type": "code",
   "execution_count": 2,
   "id": "5b8a19c3",
   "metadata": {},
   "outputs": [],
   "source": [
    "import pandas as pd\n",
    "import numpy as np\n",
    "import matplotlib.pyplot as plt\n",
    "import seaborn as sb"
   ]
  },
  {
   "cell_type": "code",
   "execution_count": 3,
   "id": "41eb76bf",
   "metadata": {},
   "outputs": [],
   "source": [
    "#read the dataset from remote machine "
   ]
  },
  {
   "cell_type": "code",
   "execution_count": 4,
   "id": "129068b5",
   "metadata": {},
   "outputs": [],
   "source": [
    "A = pd.read_csv(\"C:/Users/vipul ghare/Desktop/ETL Hive/csvfiles/sidhardhan/Regression/insurance.csv\")"
   ]
  },
  {
   "cell_type": "code",
   "execution_count": 6,
   "id": "471e446d",
   "metadata": {},
   "outputs": [],
   "source": [
    "#preview the dataset"
   ]
  },
  {
   "cell_type": "code",
   "execution_count": 7,
   "id": "28f82086",
   "metadata": {},
   "outputs": [
    {
     "data": {
      "text/html": [
       "<div>\n",
       "<style scoped>\n",
       "    .dataframe tbody tr th:only-of-type {\n",
       "        vertical-align: middle;\n",
       "    }\n",
       "\n",
       "    .dataframe tbody tr th {\n",
       "        vertical-align: top;\n",
       "    }\n",
       "\n",
       "    .dataframe thead th {\n",
       "        text-align: right;\n",
       "    }\n",
       "</style>\n",
       "<table border=\"1\" class=\"dataframe\">\n",
       "  <thead>\n",
       "    <tr style=\"text-align: right;\">\n",
       "      <th></th>\n",
       "      <th>age</th>\n",
       "      <th>sex</th>\n",
       "      <th>bmi</th>\n",
       "      <th>children</th>\n",
       "      <th>smoker</th>\n",
       "      <th>region</th>\n",
       "      <th>charges</th>\n",
       "    </tr>\n",
       "  </thead>\n",
       "  <tbody>\n",
       "    <tr>\n",
       "      <th>0</th>\n",
       "      <td>19</td>\n",
       "      <td>female</td>\n",
       "      <td>27.900</td>\n",
       "      <td>0</td>\n",
       "      <td>yes</td>\n",
       "      <td>southwest</td>\n",
       "      <td>16884.92400</td>\n",
       "    </tr>\n",
       "    <tr>\n",
       "      <th>1</th>\n",
       "      <td>18</td>\n",
       "      <td>male</td>\n",
       "      <td>33.770</td>\n",
       "      <td>1</td>\n",
       "      <td>no</td>\n",
       "      <td>southeast</td>\n",
       "      <td>1725.55230</td>\n",
       "    </tr>\n",
       "    <tr>\n",
       "      <th>2</th>\n",
       "      <td>28</td>\n",
       "      <td>male</td>\n",
       "      <td>33.000</td>\n",
       "      <td>3</td>\n",
       "      <td>no</td>\n",
       "      <td>southeast</td>\n",
       "      <td>4449.46200</td>\n",
       "    </tr>\n",
       "    <tr>\n",
       "      <th>3</th>\n",
       "      <td>33</td>\n",
       "      <td>male</td>\n",
       "      <td>22.705</td>\n",
       "      <td>0</td>\n",
       "      <td>no</td>\n",
       "      <td>northwest</td>\n",
       "      <td>21984.47061</td>\n",
       "    </tr>\n",
       "    <tr>\n",
       "      <th>4</th>\n",
       "      <td>32</td>\n",
       "      <td>male</td>\n",
       "      <td>28.880</td>\n",
       "      <td>0</td>\n",
       "      <td>no</td>\n",
       "      <td>northwest</td>\n",
       "      <td>3866.85520</td>\n",
       "    </tr>\n",
       "  </tbody>\n",
       "</table>\n",
       "</div>"
      ],
      "text/plain": [
       "   age     sex     bmi  children smoker     region      charges\n",
       "0   19  female  27.900         0    yes  southwest  16884.92400\n",
       "1   18    male  33.770         1     no  southeast   1725.55230\n",
       "2   28    male  33.000         3     no  southeast   4449.46200\n",
       "3   33    male  22.705         0     no  northwest  21984.47061\n",
       "4   32    male  28.880         0     no  northwest   3866.85520"
      ]
     },
     "execution_count": 7,
     "metadata": {},
     "output_type": "execute_result"
    }
   ],
   "source": [
    "A.head()"
   ]
  },
  {
   "cell_type": "code",
   "execution_count": 8,
   "id": "bb6a1a0a",
   "metadata": {},
   "outputs": [],
   "source": [
    "#Get information about the dataset"
   ]
  },
  {
   "cell_type": "code",
   "execution_count": 9,
   "id": "4c4c7a34",
   "metadata": {},
   "outputs": [
    {
     "name": "stdout",
     "output_type": "stream",
     "text": [
      "<class 'pandas.core.frame.DataFrame'>\n",
      "RangeIndex: 1338 entries, 0 to 1337\n",
      "Data columns (total 7 columns):\n",
      " #   Column    Non-Null Count  Dtype  \n",
      "---  ------    --------------  -----  \n",
      " 0   age       1338 non-null   int64  \n",
      " 1   sex       1338 non-null   object \n",
      " 2   bmi       1338 non-null   float64\n",
      " 3   children  1338 non-null   int64  \n",
      " 4   smoker    1338 non-null   object \n",
      " 5   region    1338 non-null   object \n",
      " 6   charges   1338 non-null   float64\n",
      "dtypes: float64(2), int64(2), object(3)\n",
      "memory usage: 73.3+ KB\n"
     ]
    }
   ],
   "source": [
    "A.info()"
   ]
  },
  {
   "cell_type": "code",
   "execution_count": 10,
   "id": "3430130c",
   "metadata": {},
   "outputs": [],
   "source": [
    "#describe function will tell you more about the dataset"
   ]
  },
  {
   "cell_type": "code",
   "execution_count": 11,
   "id": "3ce26763",
   "metadata": {},
   "outputs": [
    {
     "data": {
      "text/html": [
       "<div>\n",
       "<style scoped>\n",
       "    .dataframe tbody tr th:only-of-type {\n",
       "        vertical-align: middle;\n",
       "    }\n",
       "\n",
       "    .dataframe tbody tr th {\n",
       "        vertical-align: top;\n",
       "    }\n",
       "\n",
       "    .dataframe thead th {\n",
       "        text-align: right;\n",
       "    }\n",
       "</style>\n",
       "<table border=\"1\" class=\"dataframe\">\n",
       "  <thead>\n",
       "    <tr style=\"text-align: right;\">\n",
       "      <th></th>\n",
       "      <th>age</th>\n",
       "      <th>bmi</th>\n",
       "      <th>children</th>\n",
       "      <th>charges</th>\n",
       "    </tr>\n",
       "  </thead>\n",
       "  <tbody>\n",
       "    <tr>\n",
       "      <th>count</th>\n",
       "      <td>1338.000000</td>\n",
       "      <td>1338.000000</td>\n",
       "      <td>1338.000000</td>\n",
       "      <td>1338.000000</td>\n",
       "    </tr>\n",
       "    <tr>\n",
       "      <th>mean</th>\n",
       "      <td>39.207025</td>\n",
       "      <td>30.663397</td>\n",
       "      <td>1.094918</td>\n",
       "      <td>13270.422265</td>\n",
       "    </tr>\n",
       "    <tr>\n",
       "      <th>std</th>\n",
       "      <td>14.049960</td>\n",
       "      <td>6.098187</td>\n",
       "      <td>1.205493</td>\n",
       "      <td>12110.011237</td>\n",
       "    </tr>\n",
       "    <tr>\n",
       "      <th>min</th>\n",
       "      <td>18.000000</td>\n",
       "      <td>15.960000</td>\n",
       "      <td>0.000000</td>\n",
       "      <td>1121.873900</td>\n",
       "    </tr>\n",
       "    <tr>\n",
       "      <th>25%</th>\n",
       "      <td>27.000000</td>\n",
       "      <td>26.296250</td>\n",
       "      <td>0.000000</td>\n",
       "      <td>4740.287150</td>\n",
       "    </tr>\n",
       "    <tr>\n",
       "      <th>50%</th>\n",
       "      <td>39.000000</td>\n",
       "      <td>30.400000</td>\n",
       "      <td>1.000000</td>\n",
       "      <td>9382.033000</td>\n",
       "    </tr>\n",
       "    <tr>\n",
       "      <th>75%</th>\n",
       "      <td>51.000000</td>\n",
       "      <td>34.693750</td>\n",
       "      <td>2.000000</td>\n",
       "      <td>16639.912515</td>\n",
       "    </tr>\n",
       "    <tr>\n",
       "      <th>max</th>\n",
       "      <td>64.000000</td>\n",
       "      <td>53.130000</td>\n",
       "      <td>5.000000</td>\n",
       "      <td>63770.428010</td>\n",
       "    </tr>\n",
       "  </tbody>\n",
       "</table>\n",
       "</div>"
      ],
      "text/plain": [
       "               age          bmi     children       charges\n",
       "count  1338.000000  1338.000000  1338.000000   1338.000000\n",
       "mean     39.207025    30.663397     1.094918  13270.422265\n",
       "std      14.049960     6.098187     1.205493  12110.011237\n",
       "min      18.000000    15.960000     0.000000   1121.873900\n",
       "25%      27.000000    26.296250     0.000000   4740.287150\n",
       "50%      39.000000    30.400000     1.000000   9382.033000\n",
       "75%      51.000000    34.693750     2.000000  16639.912515\n",
       "max      64.000000    53.130000     5.000000  63770.428010"
      ]
     },
     "execution_count": 11,
     "metadata": {},
     "output_type": "execute_result"
    }
   ],
   "source": [
    "A.describe()"
   ]
  },
  {
   "cell_type": "code",
   "execution_count": 12,
   "id": "a756e498",
   "metadata": {},
   "outputs": [],
   "source": [
    "#check for any null value"
   ]
  },
  {
   "cell_type": "code",
   "execution_count": 13,
   "id": "ac5a5afb",
   "metadata": {},
   "outputs": [
    {
     "data": {
      "text/plain": [
       "age         0\n",
       "sex         0\n",
       "bmi         0\n",
       "children    0\n",
       "smoker      0\n",
       "region      0\n",
       "charges     0\n",
       "dtype: int64"
      ]
     },
     "execution_count": 13,
     "metadata": {},
     "output_type": "execute_result"
    }
   ],
   "source": [
    "A.isna().sum()"
   ]
  },
  {
   "cell_type": "code",
   "execution_count": 15,
   "id": "2e441ed7",
   "metadata": {},
   "outputs": [],
   "source": [
    "#Exploratory Data Analysis(EDA)"
   ]
  },
  {
   "cell_type": "code",
   "execution_count": 16,
   "id": "fa358949",
   "metadata": {},
   "outputs": [
    {
     "name": "stderr",
     "output_type": "stream",
     "text": [
      "C:\\Users\\vipul ghare\\anaconda3\\lib\\site-packages\\seaborn\\distributions.py:2557: FutureWarning: `distplot` is a deprecated function and will be removed in a future version. Please adapt your code to use either `displot` (a figure-level function with similar flexibility) or `histplot` (an axes-level function for histograms).\n",
      "  warnings.warn(msg, FutureWarning)\n",
      "C:\\Users\\vipul ghare\\anaconda3\\lib\\site-packages\\seaborn\\_decorators.py:36: FutureWarning: Pass the following variable as a keyword arg: x. From version 0.12, the only valid positional argument will be `data`, and passing other arguments without an explicit keyword will result in an error or misinterpretation.\n",
      "  warnings.warn(\n",
      "C:\\Users\\vipul ghare\\anaconda3\\lib\\site-packages\\seaborn\\distributions.py:2557: FutureWarning: `distplot` is a deprecated function and will be removed in a future version. Please adapt your code to use either `displot` (a figure-level function with similar flexibility) or `histplot` (an axes-level function for histograms).\n",
      "  warnings.warn(msg, FutureWarning)\n",
      "C:\\Users\\vipul ghare\\anaconda3\\lib\\site-packages\\seaborn\\distributions.py:2557: FutureWarning: `distplot` is a deprecated function and will be removed in a future version. Please adapt your code to use either `displot` (a figure-level function with similar flexibility) or `histplot` (an axes-level function for histograms).\n",
      "  warnings.warn(msg, FutureWarning)\n",
      "C:\\Users\\vipul ghare\\anaconda3\\lib\\site-packages\\seaborn\\_decorators.py:36: FutureWarning: Pass the following variable as a keyword arg: x. From version 0.12, the only valid positional argument will be `data`, and passing other arguments without an explicit keyword will result in an error or misinterpretation.\n",
      "  warnings.warn(\n",
      "C:\\Users\\vipul ghare\\anaconda3\\lib\\site-packages\\seaborn\\_decorators.py:36: FutureWarning: Pass the following variable as a keyword arg: x. From version 0.12, the only valid positional argument will be `data`, and passing other arguments without an explicit keyword will result in an error or misinterpretation.\n",
      "  warnings.warn(\n",
      "C:\\Users\\vipul ghare\\anaconda3\\lib\\site-packages\\seaborn\\distributions.py:2557: FutureWarning: `distplot` is a deprecated function and will be removed in a future version. Please adapt your code to use either `displot` (a figure-level function with similar flexibility) or `histplot` (an axes-level function for histograms).\n",
      "  warnings.warn(msg, FutureWarning)\n"
     ]
    },
    {
     "data": {
      "image/png": "[encoded data removed]",
      "text/plain": [
       "<Figure size 2160x5040 with 7 Axes>"
      ]
     },
     "metadata": {
      "needs_background": "light"
     },
     "output_type": "display_data"
    }
   ],
   "source": [
    "plt.figure(figsize=(30,70))\n",
    "m = 1\n",
    "for i in A.columns:\n",
    "    plt.subplot(A.shape[1],3,m)\n",
    "    if(A[i].dtypes==\"object\"):\n",
    "        sb.countplot(A[i])\n",
    "    else:\n",
    "        sb.distplot(A[i])\n",
    "    m = m + 1"
   ]
  },
  {
   "cell_type": "code",
   "execution_count": 17,
   "id": "cb578dd6",
   "metadata": {},
   "outputs": [],
   "source": [
    "#Declare Predictor and Target varibale"
   ]
  },
  {
   "cell_type": "code",
   "execution_count": 18,
   "id": "ec1e7bf3",
   "metadata": {},
   "outputs": [],
   "source": [
    "Y=A[[\"charges\"]]"
   ]
  },
  {
   "cell_type": "code",
   "execution_count": 20,
   "id": "4c045e68",
   "metadata": {},
   "outputs": [],
   "source": [
    "X = A.drop(labels=[\"charges\"],axis=1)\n",
    "cat =[]\n",
    "con =[]\n",
    "for i in X.columns:\n",
    "    if(X[i].dtypes==\"object\"):\n",
    "        cat.append(i)\n",
    "    else:\n",
    "        con.append(i)\n",
    "            \n",
    "from sklearn.preprocessing import StandardScaler #standarize the data\n",
    "ss = StandardScaler()\n",
    "Qcon = pd.DataFrame(ss.fit_transform(X[con]),columns=con)\n",
    "    \n",
    "Qcat = pd.get_dummies(X[cat])\n",
    "    \n",
    "X = Qcon.join(Qcat)"
   ]
  },
  {
   "cell_type": "code",
   "execution_count": 21,
   "id": "04fceff2",
   "metadata": {},
   "outputs": [
    {
     "data": {
      "text/html": [
       "<div>\n",
       "<style scoped>\n",
       "    .dataframe tbody tr th:only-of-type {\n",
       "        vertical-align: middle;\n",
       "    }\n",
       "\n",
       "    .dataframe tbody tr th {\n",
       "        vertical-align: top;\n",
       "    }\n",
       "\n",
       "    .dataframe thead th {\n",
       "        text-align: right;\n",
       "    }\n",
       "</style>\n",
       "<table border=\"1\" class=\"dataframe\">\n",
       "  <thead>\n",
       "    <tr style=\"text-align: right;\">\n",
       "      <th></th>\n",
       "      <th>charges</th>\n",
       "    </tr>\n",
       "  </thead>\n",
       "  <tbody>\n",
       "    <tr>\n",
       "      <th>0</th>\n",
       "      <td>16884.92400</td>\n",
       "    </tr>\n",
       "    <tr>\n",
       "      <th>1</th>\n",
       "      <td>1725.55230</td>\n",
       "    </tr>\n",
       "    <tr>\n",
       "      <th>2</th>\n",
       "      <td>4449.46200</td>\n",
       "    </tr>\n",
       "    <tr>\n",
       "      <th>3</th>\n",
       "      <td>21984.47061</td>\n",
       "    </tr>\n",
       "    <tr>\n",
       "      <th>4</th>\n",
       "      <td>3866.85520</td>\n",
       "    </tr>\n",
       "  </tbody>\n",
       "</table>\n",
       "</div>"
      ],
      "text/plain": [
       "       charges\n",
       "0  16884.92400\n",
       "1   1725.55230\n",
       "2   4449.46200\n",
       "3  21984.47061\n",
       "4   3866.85520"
      ]
     },
     "execution_count": 21,
     "metadata": {},
     "output_type": "execute_result"
    }
   ],
   "source": [
    "Y.head()"
   ]
  },
  {
   "cell_type": "code",
   "execution_count": 22,
   "id": "4ead8c0c",
   "metadata": {},
   "outputs": [
    {
     "data": {
      "text/html": [
       "<div>\n",
       "<style scoped>\n",
       "    .dataframe tbody tr th:only-of-type {\n",
       "        vertical-align: middle;\n",
       "    }\n",
       "\n",
       "    .dataframe tbody tr th {\n",
       "        vertical-align: top;\n",
       "    }\n",
       "\n",
       "    .dataframe thead th {\n",
       "        text-align: right;\n",
       "    }\n",
       "</style>\n",
       "<table border=\"1\" class=\"dataframe\">\n",
       "  <thead>\n",
       "    <tr style=\"text-align: right;\">\n",
       "      <th></th>\n",
       "      <th>age</th>\n",
       "      <th>bmi</th>\n",
       "      <th>children</th>\n",
       "      <th>sex_female</th>\n",
       "      <th>sex_male</th>\n",
       "      <th>smoker_no</th>\n",
       "      <th>smoker_yes</th>\n",
       "      <th>region_northeast</th>\n",
       "      <th>region_northwest</th>\n",
       "      <th>region_southeast</th>\n",
       "      <th>region_southwest</th>\n",
       "    </tr>\n",
       "  </thead>\n",
       "  <tbody>\n",
       "    <tr>\n",
       "      <th>0</th>\n",
       "      <td>-1.438764</td>\n",
       "      <td>-0.453320</td>\n",
       "      <td>-0.908614</td>\n",
       "      <td>1</td>\n",
       "      <td>0</td>\n",
       "      <td>0</td>\n",
       "      <td>1</td>\n",
       "      <td>0</td>\n",
       "      <td>0</td>\n",
       "      <td>0</td>\n",
       "      <td>1</td>\n",
       "    </tr>\n",
       "    <tr>\n",
       "      <th>1</th>\n",
       "      <td>-1.509965</td>\n",
       "      <td>0.509621</td>\n",
       "      <td>-0.078767</td>\n",
       "      <td>0</td>\n",
       "      <td>1</td>\n",
       "      <td>1</td>\n",
       "      <td>0</td>\n",
       "      <td>0</td>\n",
       "      <td>0</td>\n",
       "      <td>1</td>\n",
       "      <td>0</td>\n",
       "    </tr>\n",
       "    <tr>\n",
       "      <th>2</th>\n",
       "      <td>-0.797954</td>\n",
       "      <td>0.383307</td>\n",
       "      <td>1.580926</td>\n",
       "      <td>0</td>\n",
       "      <td>1</td>\n",
       "      <td>1</td>\n",
       "      <td>0</td>\n",
       "      <td>0</td>\n",
       "      <td>0</td>\n",
       "      <td>1</td>\n",
       "      <td>0</td>\n",
       "    </tr>\n",
       "    <tr>\n",
       "      <th>3</th>\n",
       "      <td>-0.441948</td>\n",
       "      <td>-1.305531</td>\n",
       "      <td>-0.908614</td>\n",
       "      <td>0</td>\n",
       "      <td>1</td>\n",
       "      <td>1</td>\n",
       "      <td>0</td>\n",
       "      <td>0</td>\n",
       "      <td>1</td>\n",
       "      <td>0</td>\n",
       "      <td>0</td>\n",
       "    </tr>\n",
       "    <tr>\n",
       "      <th>4</th>\n",
       "      <td>-0.513149</td>\n",
       "      <td>-0.292556</td>\n",
       "      <td>-0.908614</td>\n",
       "      <td>0</td>\n",
       "      <td>1</td>\n",
       "      <td>1</td>\n",
       "      <td>0</td>\n",
       "      <td>0</td>\n",
       "      <td>1</td>\n",
       "      <td>0</td>\n",
       "      <td>0</td>\n",
       "    </tr>\n",
       "  </tbody>\n",
       "</table>\n",
       "</div>"
      ],
      "text/plain": [
       "        age       bmi  children  sex_female  sex_male  smoker_no  smoker_yes  \\\n",
       "0 -1.438764 -0.453320 -0.908614           1         0          0           1   \n",
       "1 -1.509965  0.509621 -0.078767           0         1          1           0   \n",
       "2 -0.797954  0.383307  1.580926           0         1          1           0   \n",
       "3 -0.441948 -1.305531 -0.908614           0         1          1           0   \n",
       "4 -0.513149 -0.292556 -0.908614           0         1          1           0   \n",
       "\n",
       "   region_northeast  region_northwest  region_southeast  region_southwest  \n",
       "0                 0                 0                 0                 1  \n",
       "1                 0                 0                 1                 0  \n",
       "2                 0                 0                 1                 0  \n",
       "3                 0                 1                 0                 0  \n",
       "4                 0                 1                 0                 0  "
      ]
     },
     "execution_count": 22,
     "metadata": {},
     "output_type": "execute_result"
    }
   ],
   "source": [
    "X.head()"
   ]
  },
  {
   "cell_type": "code",
   "execution_count": 23,
   "id": "8b917bbd",
   "metadata": {},
   "outputs": [],
   "source": [
    "#split the data in training and testing data"
   ]
  },
  {
   "cell_type": "code",
   "execution_count": 24,
   "id": "941f0959",
   "metadata": {},
   "outputs": [],
   "source": [
    "from sklearn.model_selection import train_test_split\n",
    "xtrain,xtest,ytrain,ytest=train_test_split(X,Y,test_size=0.2,random_state=20)"
   ]
  },
  {
   "cell_type": "code",
   "execution_count": 25,
   "id": "eb773e43",
   "metadata": {},
   "outputs": [],
   "source": [
    "# Fitting Multiple Decision Tree Regressor to the Training set"
   ]
  },
  {
   "cell_type": "code",
   "execution_count": 31,
   "id": "4a3b00d1",
   "metadata": {},
   "outputs": [
    {
     "name": "stdout",
     "output_type": "stream",
     "text": [
      "2 2906.4770339141787 3225.678894672897\n",
      "3 2199.7684729999996 2440.5880862710283\n",
      "4 1743.0487477201493 2090.2581835700935\n",
      "5 1647.5769053694028 1895.1426027570092\n",
      "6 1604.6587601082092 1686.223359514019\n",
      "7 1692.9508584104478 1502.949002542056\n",
      "8 1658.4308335783583 1256.3250503177571\n",
      "9 1989.4645558358209 892.9681819345795\n",
      "10 2033.4753607611942 632.297878457944\n",
      "11 2261.441656059701 412.78671652336453\n",
      "12 2348.5517226082093 239.89521173831778\n",
      "13 2463.3710410970148 116.32854927102804\n",
      "14 2599.2662635410443 56.247494738317755\n",
      "15 2615.611957037313 45.87559476635514\n",
      "16 2704.528910171642 30.942637149532707\n",
      "17 2601.614222410448 29.76349929906542\n",
      "18 2709.3550602462687 29.572515327102803\n",
      "19 2709.3550602462687 29.572515327102803\n"
     ]
    }
   ],
   "source": [
    "for i in range(2,20,1):\n",
    "    from sklearn.tree import DecisionTreeRegressor\n",
    "    dtr = DecisionTreeRegressor(criterion='mae',random_state=21,max_depth=i)\n",
    "    model = dtr.fit(xtrain,ytrain)\n",
    "    pred = model.predict(xtest)\n",
    "    pred1 = model.predict(xtrain)\n",
    "    from sklearn.metrics import mean_absolute_error\n",
    "    print(i,mean_absolute_error(ytest,pred),mean_absolute_error(ytrain,pred1))"
   ]
  },
  {
   "cell_type": "code",
   "execution_count": 32,
   "id": "6c6496cc",
   "metadata": {},
   "outputs": [
    {
     "name": "stdout",
     "output_type": "stream",
     "text": [
      "2 1604.6587601082092\n",
      "3 1604.6587601082092\n",
      "4 1604.6587601082092\n",
      "5 1662.4099269179105\n",
      "6 1602.7913786716417\n",
      "7 1607.2051322164177\n",
      "8 1604.5655554440298\n",
      "9 1572.2415416194028\n",
      "10 1572.2415416194028\n",
      "11 1579.36495561194\n",
      "12 1579.36495561194\n",
      "13 1584.1602494552237\n",
      "14 1586.627820164179\n",
      "15 1582.9704013208952\n",
      "16 1582.9704013208952\n",
      "17 1584.1334832238806\n",
      "18 1584.1334832238806\n",
      "19 1584.1334832238806\n"
     ]
    }
   ],
   "source": [
    "for i in range(2,20,1):\n",
    "    from sklearn.tree import DecisionTreeRegressor\n",
    "    dtr = DecisionTreeRegressor(criterion='mae',random_state=21,min_samples_split=i,max_depth=6)\n",
    "    model = dtr.fit(xtrain,ytrain)\n",
    "    pred = model.predict(xtest)\n",
    "    from sklearn.metrics import mean_absolute_error\n",
    "    print(i,mean_absolute_error(ytest,pred))"
   ]
  },
  {
   "cell_type": "code",
   "execution_count": 33,
   "id": "9c66ba51",
   "metadata": {},
   "outputs": [],
   "source": [
    "from sklearn.tree import DecisionTreeRegressor\n",
    "dtr = DecisionTreeRegressor(criterion='mae',random_state=21,min_samples_split=9,max_depth=6)\n",
    "model = dtr.fit(xtrain,ytrain)\n",
    "pred_ts = model.predict(xtest)\n",
    "pred_tr = model.predict(xtrain)"
   ]
  },
  {
   "cell_type": "code",
   "execution_count": 37,
   "id": "64b78746",
   "metadata": {},
   "outputs": [],
   "source": [
    "#Calculation of Error of the model"
   ]
  },
  {
   "cell_type": "code",
   "execution_count": 38,
   "id": "1c05a58f",
   "metadata": {},
   "outputs": [
    {
     "name": "stdout",
     "output_type": "stream",
     "text": [
      "Training error : 1732.626728682243\n",
      "Testing error : 1572.2415416194028\n"
     ]
    }
   ],
   "source": [
    "from sklearn.metrics import mean_absolute_error\n",
    "print(\"Training error :\",mean_absolute_error(ytrain,pred_tr))\n",
    "print(\"Testing error :\",mean_absolute_error(ytest,pred_ts))"
   ]
  },
  {
   "cell_type": "code",
   "execution_count": null,
   "id": "6e425c84",
   "metadata": {},
   "outputs": [],
   "source": []
  }
 ],
 "metadata": {
  "kernelspec": {
   "display_name": "Python 3",
   "language": "python",
   "name": "python3"
  },
  "language_info": {
   "codemirror_mode": {
    "name": "ipython",
    "version": 3
   },
   "file_extension": ".py",
   "mimetype": "text/x-python",
   "name": "python",
   "nbconvert_exporter": "python",
   "pygments_lexer": "ipython3",
   "version": "3.8.8"
  }
 },
 "nbformat": 4,
 "nbformat_minor": 5
}
